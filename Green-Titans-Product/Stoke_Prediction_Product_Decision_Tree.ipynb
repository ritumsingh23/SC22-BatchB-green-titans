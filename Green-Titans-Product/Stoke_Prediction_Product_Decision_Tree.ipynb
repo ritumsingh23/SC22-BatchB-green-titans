{
 "cells": [
  {
   "cell_type": "code",
   "execution_count": 37,
   "metadata": {
    "collapsed": false
   },
   "outputs": [
    {
     "ename": "SyntaxError",
     "evalue": "invalid syntax (1055483398.py, line 11)",
     "output_type": "error",
     "traceback": [
      "\u001b[0;36m  Input \u001b[0;32mIn [37]\u001b[0;36m\u001b[0m\n\u001b[0;31m    sudo pip install imbalanced-learn\u001b[0m\n\u001b[0m         ^\u001b[0m\n\u001b[0;31mSyntaxError\u001b[0m\u001b[0;31m:\u001b[0m invalid syntax\n"
     ]
    }
   ],
   "source": [
    "import pandas as pd\n",
    "import numpy as np\n",
    "import plotly.express as px\n",
    "from sklearn.metrics import confusion_matrix\n",
    "from sklearn.model_selection import train_test_split\n",
    "from sklearn.tree import DecisionTreeClassifier\n",
    "from sklearn.metrics import accuracy_score\n",
    "from sklearn.metrics import classification_report\n",
    "from sklearn import preprocessing\n",
    "from sklearn import utils\n",
    "sudo pip install imbalanced-learn\n",
    "import imblearn as imblearn"
   ]
  },
  {
   "cell_type": "code",
   "execution_count": 38,
   "metadata": {
    "collapsed": false
   },
   "outputs": [
    {
     "ename": "SyntaxError",
     "evalue": "invalid syntax (3510200374.py, line 1)",
     "output_type": "error",
     "traceback": [
      "\u001b[0;36m  Input \u001b[0;32mIn [38]\u001b[0;36m\u001b[0m\n\u001b[0;31m    sudo pip install imbalanced-learn\u001b[0m\n\u001b[0m         ^\u001b[0m\n\u001b[0;31mSyntaxError\u001b[0m\u001b[0;31m:\u001b[0m invalid syntax\n"
     ]
    }
   ],
   "source": [
    "sudo pip install imbalanced-learn\n",
    "import imblearn as imblearn\n",
    "print(imblearn 0.5.0)"
   ]
  },
  {
   "cell_type": "code",
   "execution_count": 41,
   "metadata": {
    "collapsed": false
   },
   "outputs": [
   ],
   "source": [
    "stroke_data = pd.read_csv(\"healthcare-dataset-stroke-data.csv\")"
   ]
  },
  {
   "cell_type": "code",
   "execution_count": 4,
   "metadata": {
    "collapsed": false
   },
   "outputs": [
   ],
   "source": [
    "#hypertension = high blood pressure\n",
    "stroke_data.dropna(axis = 0, how = 'any', inplace = True)\n",
    "\n",
    "stroke_data1 = stroke_data.loc[stroke_data['avg_glucose_level'] <= 168.32]\n",
    "stroke_data = stroke_data1\n",
    "stroke_data.reset_index(drop = True, inplace = True)\n",
    "\n",
    "stroke_data2 = stroke_data.loc[stroke_data['bmi'] <= 47.5]\n",
    "stroke_data = stroke_data2\n",
    "stroke_data.reset_index(drop = True, inplace = True)"
   ]
  },
  {
   "cell_type": "code",
   "execution_count": 0,
   "metadata": {
    "collapsed": false
   },
   "outputs": [
   ],
   "source": [
    "stroke_data.drop(['gender', 'id', 'work_type', 'ever_married', 'Residence_type'], axis=1, inplace = True)"
   ]
  },
  {
   "cell_type": "code",
   "execution_count": 0,
   "metadata": {
    "collapsed": false
   },
   "outputs": [
   ],
   "source": [
    "stroke_data['smoking_status']"
   ]
  },
  {
   "cell_type": "code",
   "execution_count": 0,
   "metadata": {
    "collapsed": false
   },
   "outputs": [
   ],
   "source": [
    "dummy = pd.get_dummies(stroke_data)\n",
    "stroke_data = dummy\n",
    "stroke_data"
   ]
  },
  {
   "cell_type": "code",
   "execution_count": 0,
   "metadata": {
    "collapsed": false
   },
   "outputs": [
   ],
   "source": [
    "stroke_data.describe()"
   ]
  },
  {
   "cell_type": "markdown",
   "metadata": {
    "collapsed": false
   },
   "source": [
    "## EDA - Exploratory Data Analysis\n",
    "\n"
   ]
  },
  {
   "cell_type": "code",
   "execution_count": 12,
   "metadata": {
    "collapsed": false
   },
   "outputs": [
   ],
   "source": [
    "def pie():\n",
    "    global stroke_data\n",
    "    new_stroke_data = stroke_data.groupby('smoking_status_formerly smoked').count()\n",
    "    options = list(new_stroke_data.index)\n",
    "    counts = []\n",
    "    for val in options:\n",
    "        counts.append(new_stroke_data[\"heart_disease\"][val])\n",
    "\n",
    "    new_fig = px.pie(new_stroke_data, values=counts, names=options, title=\"Percentage of Smokers\")\n",
    "    new_fig.show()\n",
    "def scat():\n",
    "    global stroke_data\n",
    "    new_fig = px.scatter(stroke_data, x=\"age\", y=\"bmi\",color=\"avg_glucose_level\")\n",
    "    new_fig.show()\n",
    "\n",
    "def smoke_hist():\n",
    "    global stroke_data\n",
    "    fig = px.histogram(stroke_data, x=\"smoking_status_formerly smoked\", y=\"avg_glucose_level\", barmode='group',height=400)\n",
    "    fig.show()"
   ]
  },
  {
   "cell_type": "code",
   "execution_count": 0,
   "metadata": {
    "collapsed": false
   },
   "outputs": [
   ],
   "source": [
    "pie()"
   ]
  },
  {
   "cell_type": "code",
   "execution_count": 0,
   "metadata": {
    "collapsed": false
   },
   "outputs": [
   ],
   "source": [
    "scat()"
   ]
  },
  {
   "cell_type": "code",
   "execution_count": 0,
   "metadata": {
    "collapsed": false
   },
   "outputs": [
   ],
   "source": [
    "smoke_hist()"
   ]
  },
  {
   "cell_type": "code",
   "execution_count": 0,
   "metadata": {
    "collapsed": false
   },
   "outputs": [
   ],
   "source": [
    "fig = px.scatter_matrix(stroke_data,\n",
    "    dimensions=[\"age\", \"avg_glucose_level\", \"bmi\"],\n",
    "    color=\"stroke\")\n",
    "fig.show()"
   ]
  },
  {
   "cell_type": "markdown",
   "metadata": {
    "collapsed": false
   },
   "source": [
    "The older you are, the more likely you are to have a stroke. The higher you average glucose level is, the higher the stroke risk becomes. The higher your BMI is, the more likely you ate to have a stroke\n",
    "\n",
    "The most dangerous combination is a high glucose level, and old age\n",
    "\n",
    "The only data point that does not have any direct relation to strokes is age, although it does raise the chance for a person to get a stroke, when they are older\n"
   ]
  },
  {
   "cell_type": "code",
   "execution_count": 0,
   "metadata": {
    "collapsed": false
   },
   "outputs": [
   ],
   "source": [
    "hd = pd.read_csv(\"./healthcare-dataset-stroke-data.csv\")\n",
    "hd.drop('id',inplace=True,axis=1)\n",
    "hd.dropna(inplace=True)\n",
    "hd.reset_index(drop=True, inplace=False)\n",
    "hd.drop([466, 544, 928, 1559, 2128, 2764, 2840, 3825, 4188, 4209, 4838, 270, 358])\n",
    "hd[\"heart_disease\"]=hd[\"heart_disease\"].replace([1],15)\n",
    "hd[\"heart_disease\"]=hd[\"heart_disease\"].replace([0],6)\n",
    "bmiAgeSexStrokePlot = px.scatter_3d(hd,y=hd[\"avg_glucose_level\"],x=hd[\"age\"], z=hd[\"bmi\"], symbol=\"ever_married\",labels=dict(stroke=\"Number of Strokes\",age=\"Age\",gender=\"Sex\", bmi=\"BMI\", heart_disease=\"If Heart Disease Present\", avg_glucose_level=\"Average Glucose Level\",smoking_status=\"If Smoke\"),color=\"stroke\",opacity=0.8,size=\"heart_disease\",size_max=20)\n",
    "bmiAgeSexStrokePlot.update_yaxes(tick0=1.0, dtick=1.0)\n",
    "#bmiAgeSexStrokePlot.update_traces(marker_size = 2.5)\n",
    "bmiAgeSexStrokePlot.update_xaxes(tick0=1, dtick=10)\n",
    "bmiAgeSexStrokePlot.update_layout(margin=dict(l=40, r=40, b=40, t=40))\n",
    "#Multidimensional plot that depicts most of the variables with the stats of the given person including marriage status.\n",
    "#Younger people typically have a lower glucose level\n",
    "#Higher glucose level, higher chance to get a stroke\n",
    "#Older, higher chance\n",
    "#Higher BMI, higher chance\n",
    "#Females typically have a lower glucose level"
   ]
  },
  {
   "cell_type": "code",
   "execution_count": 18,
   "metadata": {
    "collapsed": false
   },
   "outputs": [
   ],
   "source": [
    "stroke_data\n",
    "stroke_data.drop('smoking_status_smokes', axis = 1, inplace = True)"
   ]
  },
  {
   "cell_type": "code",
   "execution_count": 0,
   "metadata": {
    "collapsed": false
   },
   "outputs": [
   ],
   "source": [
    "Y = stroke_data['stroke']\n",
    "Y"
   ]
  },
  {
   "cell_type": "code",
   "execution_count": 0,
   "metadata": {
    "collapsed": false
   },
   "outputs": [
   ],
   "source": [
    "X = stroke_data[['age', 'hypertension', 'heart_disease', 'avg_glucose_level', 'bmi', 'smoking_status_Unknown', 'smoking_status_formerly smoked', 'smoking_status_never smoked']]\n",
    "X"
   ]
  },
  {
   "cell_type": "code",
   "execution_count": 0,
   "metadata": {
    "collapsed": false
   },
   "outputs": [
   ],
   "source": [
    "X_train, X_test, Y_train, Y_test = train_test_split(X , Y, test_size = 0.2)\n",
    "print(X_train.shape)\n",
    "print(X_test.shape)\n",
    "print(Y_train.shape)\n",
    "print(Y_test.shape)"
   ]
  },
  {
   "cell_type": "code",
   "execution_count": 0,
   "metadata": {
    "collapsed": false
   },
   "outputs": [
   ],
   "source": [
    "clf_gini = DecisionTreeClassifier(criterion = \"gini\", random_state = 100,\n",
    "                                  max_depth = 3, min_samples_leaf = 5)\n",
    "clf_gini.fit(X_train, Y_train)"
   ]
  },
  {
   "cell_type": "code",
   "execution_count": 0,
   "metadata": {
    "collapsed": false
   },
   "outputs": [
   ],
   "source": [
    "Y_pred = clf_gini.predict(X_test)\n",
    "print(\"predicted values:\")\n",
    "print(Y_pred)\n",
    "Y_pred = clf_gini.predict(X_test)\n",
    "print(\"predicted values:\")\n",
    "print(Y_pred)"
   ]
  },
  {
   "cell_type": "code",
   "execution_count": 25,
   "metadata": {
    "collapsed": false
   },
   "outputs": [
    {
     "name": "stdout",
     "output_type": "stream",
     "text": [
      "852 852\n"
     ]
    }
   ],
   "source": [
    "print(len(Y_pred), len(Y_test))"
   ]
  },
  {
   "cell_type": "code",
   "execution_count": 26,
   "metadata": {
    "collapsed": false
   },
   "outputs": [
    {
     "data": {
      "text/plain": [
       "0.9612676056338029"
      ]
     },
     "execution_count": 26,
     "metadata": {
     },
     "output_type": "execute_result"
    }
   ],
   "source": [
    "clf_gini.score(X_test, Y_test)"
   ]
  },
  {
   "cell_type": "code",
   "execution_count": 27,
   "metadata": {
    "collapsed": false
   },
   "outputs": [
    {
     "data": {
      "text/plain": [
       "0.9612676056338029"
      ]
     },
     "execution_count": 27,
     "metadata": {
     },
     "output_type": "execute_result"
    }
   ],
   "source": [
    "accuracy_score(Y_test, Y_pred)"
   ]
  },
  {
   "cell_type": "code",
   "execution_count": 0,
   "metadata": {
    "collapsed": false
   },
   "outputs": [
   ],
   "source": [
    "#print(\"Confusion Matrix: \", confusion_matrix(Y_test, Y_pred))\n",
    "print(\"Accuarcy: \", accuracy_score(Y_test, Y_pred)*100)\n",
    "#852*2\n",
    "print(\"Report : \", classification_report(Y_test, Y_pred))"
   ]
  },
  {
   "cell_type": "code",
   "execution_count": 0,
   "metadata": {
    "collapsed": false
   },
   "outputs": [
   ],
   "source": [
    "print(\"Confusion Matrix: \", confusion_matrix(Y_test, Y_pred))"
   ]
  },
  {
   "cell_type": "code",
   "execution_count": 0,
   "metadata": {
    "collapsed": false
   },
   "outputs": [
   ],
   "source": [
    "data = importdata()\n",
    "X, Y, X_train, X_test, Y_train, Y_test = splitdataset(data)\n",
    "clf_gini = train_using_gini(X_train, X_test, Y_train)\n",
    "clf_entropy = train_using_entropy(X_train, X_test, Y_train)\n",
    "print(\"Results Using Gini Index:\")\n",
    "y_pred_gini = prediction(X_test, clf_entropy)\n",
    "cal_accuarcy(Y_test, Y_pred_gini)\n",
    "print(\"Results Using Entropy:\")\n",
    "y_pred_entropy = prediction(X_test, clf_entropy)\n",
    "cal_accuracy(Y_test, Y_pred_entropy)"
   ]
  }
 ],
 "metadata": {
  "kernelspec": {
   "display_name": "Python (ds_env)",
   "language": "python",
   "metadata": {
    "debugger": true
   },
   "name": "ds_env",
   "resource_dir": "/projects/65cfa0f0-7e13-4335-a821-03f129071bce/.local/share/jupyter/kernels/ds_env"
  },
  "language_info": {
   "codemirror_mode": {
    "name": "ipython",
    "version": 3
   },
   "file_extension": ".py",
   "mimetype": "text/x-python",
   "name": "python",
   "nbconvert_exporter": "python",
   "pygments_lexer": "ipython3",
   "version": "3.8.13"
  }
 },
 "nbformat": 4,
 "nbformat_minor": 4
}